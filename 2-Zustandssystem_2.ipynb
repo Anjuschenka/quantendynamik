{
 "cells": [
  {
   "cell_type": "code",
   "execution_count": null,
   "metadata": {},
   "outputs": [],
   "source": [
    "import numpy as np\n",
    "import matplotlib.pyplot as plt"
   ]
  },
  {
   "cell_type": "code",
   "execution_count": null,
   "metadata": {},
   "outputs": [],
   "source": [
    "def V(m,x,x_eq=-3,omega=0.001):\n",
    "    y=m/2*omega**2*(x-x_eq)**2\n",
    "    return y\n",
    "def Gauss(x,beta=1,x_eq=0):\n",
    "    y=np.exp(-beta*(x-x_eq)**2)\n",
    "    return y\n",
    "def k(N_G,dk):\n",
    "    l=np.zeros(N_G)\n",
    "    for i in range(0,N_G):\n",
    "        if i<=N_G/2+1:\n",
    "            l[i]=i*dk\n",
    "        else:\n",
    "            l[i]=-(N_G-i)*dk\n",
    "    return l\n",
    "def Vprop(V,dt):\n",
    "    l=np.exp(-1.0j*V*dt)\n",
    "    return l\n",
    "def Tprop(k,m,dt):\n",
    "    l=np.exp(-1.0j/(2*m)*k**2*dt)\n",
    "    return l\n",
    "def H(m,k,V):\n",
    "    l=k**2/(2*m)+V\n",
    "    return l\n",
    "def Norm(f,dx):\n",
    "    l=np.sum(np.conjugate(f)*f)*dx\n",
    "    return l"
   ]
  },
  {
   "cell_type": "code",
   "execution_count": null,
   "metadata": {},
   "outputs": [],
   "source": [
    "N_G=1025\n",
    "Grid_min=-10\n",
    "Grid_max=10\n",
    "dx=(Grid_max-Grid_min)/(N_G-1)\n",
    "dk=2*np.pi/(N_G*dx)\n",
    "\n",
    "n_t=1000\n",
    "t_initial=0\n",
    "t_final=10000\n",
    "dt=(t_final-t_initial)/(n_t-1)\n",
    "\n",
    "m=18360\n",
    "n_s=2\n",
    "\n",
    "W_12=0.01\n",
    "Frequenz1=0.0005\n",
    "Frequenz2=0.0005"
   ]
  },
  {
   "cell_type": "code",
   "execution_count": null,
   "metadata": {},
   "outputs": [],
   "source": [
    "x_grid=np.linspace(Grid_min,Grid_max,num=N_G)\n",
    "k_grid=k(N_G,dk)\n",
    "t_grid=np.linspace(t_initial, t_final, n_t)\n",
    "\n",
    "W_Gauss=Gauss(x_grid,beta=5,x_eq=0)\n",
    "\n",
    "T_grid=np.zeros((n_s,n_s,N_G),dtype=np.complex128)\n",
    "T_grid[0,0,:]=Tprop(k(N_G,dk),m,dt)\n",
    "T_grid[1,1,:]=Tprop(k(N_G,dk),m,dt)\n",
    "\n",
    "pot1=V(m,x_grid, x_eq=-3, omega=Frequenz1)\n",
    "pot2=V(m,x_grid, x_eq=3, omega=Frequenz2)\n",
    "\n",
    "V_grid=np.zeros((n_s,n_s,N_G),dtype=np.complex128)\n",
    "V_grid[0,0,:]=Vprop(pot1,dt/2)\n",
    "V_grid[1,1,:]=Vprop(pot2,dt/2)\n",
    "\n",
    "W_grid=np.zeros((n_s,n_s,N_G),dtype=np.complex128)\n",
    "W_grid[0,0,:]=np.cos(W_12*dt/4*W_Gauss)\n",
    "W_grid[0,1,:]=-1.0j*np.sin(W_12*dt/4*W_Gauss)\n",
    "W_grid[1,0,:]=-1.0j*np.sin(W_12*dt/4*W_Gauss)\n",
    "W_grid[1,1,:]=np.cos(W_12*dt/4*W_Gauss)"
   ]
  },
  {
   "cell_type": "code",
   "execution_count": null,
   "metadata": {},
   "outputs": [],
   "source": [
    "wf=np.zeros((n_s,N_G))\n",
    "wf[0,:]=0. #Gauss(x_grid,beta=1,x_eq=-8)\n",
    "wf[1,:]=Gauss(x_grid,beta=1,x_eq=-3)\n",
    "wf/=np.sqrt(Norm(wf,dx))\n",
    "print(Norm(wf[0],dx),Norm(wf[1],dx))\n",
    "plt.plot(wf[0,:])\n",
    "plt.plot(wf[1,:])\n",
    "plt.show()\n",
    "plt.plot(pot1)\n",
    "plt.plot(pot2)\n",
    "plt.show()\n",
    "print(x_grid[len(x_grid)//2])\n",
    "print(pot1[len(pot1)//2]*27.2118)\n",
    "print(pot2[len(pot2)//2]*27.2118)"
   ]
  },
  {
   "cell_type": "code",
   "execution_count": null,
   "metadata": {},
   "outputs": [],
   "source": [
    "wf_store=np.zeros((n_s,N_G,n_t),dtype=np.complex128)\n",
    "op=\"ij...,j...->i...\"\n",
    "n1_store=np.zeros(len(t_grid))\n",
    "n2_store=np.zeros(len(t_grid))\n",
    "\n",
    "for i, t in enumerate(t_grid):\n",
    "    #print(wf.shape)\n",
    "    wf=np.einsum(op,W_grid,wf)\n",
    "    wf=np.einsum(op,V_grid,wf)\n",
    "    wf=np.einsum(op,W_grid,wf)\n",
    "    wf=np.fft.fft(wf)\n",
    "    wf=np.einsum(op,T_grid,wf)\n",
    "    wf=np.fft.ifft(wf)\n",
    "    wf=np.einsum(op,W_grid,wf)\n",
    "    wf=np.einsum(op,V_grid,wf)\n",
    "    wf=np.einsum(op,W_grid,wf)\n",
    "    wf_store[:,:,i]=wf\n",
    "    #print(Norm(wf,dx))\n",
    "    n1_store[i]=np.real(Norm(wf[0,:],dx))\n",
    "    n2_store[i]=np.real(Norm(wf[1,:],dx))\n",
    "    #print(n1_store,n2_store)\n",
    "\n",
    "X,Y=np.meshgrid(t_grid,x_grid)\n",
    "plt.contourf(X,Y,np.real(np.abs(wf_store[0,:,:])**2))\n",
    "plt.show()\n",
    "plt.contourf(X,Y,np.real(np.abs(wf_store[1,:,:])**2))\n",
    "plt.show()\n",
    "plt.plot(t_grid,n1_store)\n",
    "plt.plot(t_grid,n2_store)\n",
    "plt.plot(t_grid,n1_store+n2_store)\n",
    "plt.show()"
   ]
  },
  {
   "cell_type": "code",
   "execution_count": null,
   "metadata": {},
   "outputs": [],
   "source": []
  },
  {
   "cell_type": "code",
   "execution_count": null,
   "metadata": {},
   "outputs": [],
   "source": []
  }
 ],
 "metadata": {
  "kernelspec": {
   "display_name": "Python 3",
   "language": "python",
   "name": "python3"
  },
  "language_info": {
   "codemirror_mode": {
    "name": "ipython",
    "version": 3
   },
   "file_extension": ".py",
   "mimetype": "text/x-python",
   "name": "python",
   "nbconvert_exporter": "python",
   "pygments_lexer": "ipython3",
   "version": "3.6.10"
  }
 },
 "nbformat": 4,
 "nbformat_minor": 4
}
